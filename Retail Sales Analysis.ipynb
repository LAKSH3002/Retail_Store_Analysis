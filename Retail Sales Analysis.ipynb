{
 "cells": [
  {
   "cell_type": "code",
   "execution_count": 2,
   "id": "b3f13456-613f-4aa5-a703-d8a70bdf55db",
   "metadata": {},
   "outputs": [],
   "source": [
    "# A Project where we are going to analyze retailer sales\n",
    "# It can be products with the most/least sale, the geographic location where the sale is maxiumum\n",
    "# This project would involve a dataset that has transactional data of say a company X."
   ]
  },
  {
   "cell_type": "code",
   "execution_count": 1,
   "id": "9d80e1b6-5569-44c2-9ea7-bf0dc024e274",
   "metadata": {},
   "outputs": [
    {
     "name": "stdout",
     "output_type": "stream",
     "text": [
      "2.2.3\n",
      "2.1.3\n"
     ]
    }
   ],
   "source": [
    "import numpy as np\n",
    "import pandas as pd\n",
    "import matplotlib.pyplot as plt\n",
    "print(pd.__version__)\n",
    "print(np.__version__)"
   ]
  },
  {
   "cell_type": "code",
   "execution_count": 6,
   "id": "c8cf5462-4edb-4238-88ff-4e219ee2e1eb",
   "metadata": {},
   "outputs": [
    {
     "name": "stdout",
     "output_type": "stream",
     "text": [
      "C:\\Users\\laksh doshi\n",
      "  Transaction ID Customer ID       Category          Item  Price Per Unit  \\\n",
      "0    TXN_6867343     CUST_09     Patisserie   Item_10_PAT            18.5   \n",
      "1    TXN_3731986     CUST_22  Milk Products  Item_17_MILK            29.0   \n",
      "2    TXN_9303719     CUST_02       Butchers   Item_12_BUT            21.5   \n",
      "3    TXN_9458126     CUST_06      Beverages   Item_16_BEV            27.5   \n",
      "4    TXN_4575373     CUST_05           Food   Item_6_FOOD            12.5   \n",
      "\n",
      "   Quantity  Total Spent  Payment Method Location Transaction Date  \\\n",
      "0      10.0        185.0  Digital Wallet   Online       08-04-2024   \n",
      "1       9.0        261.0  Digital Wallet   Online       23-07-2023   \n",
      "2       2.0         43.0     Credit Card   Online       05-10-2022   \n",
      "3       9.0        247.5     Credit Card   Online       07-05-2022   \n",
      "4       7.0         87.5  Digital Wallet   Online       02-10-2022   \n",
      "\n",
      "  Discount Applied  \n",
      "0             True  \n",
      "1             True  \n",
      "2            False  \n",
      "3              NaN  \n",
      "4            False  \n"
     ]
    }
   ],
   "source": [
    "# Dataset Loading, Drive Connectivity.\n",
    "import os\n",
    "print(os.getcwd())\n",
    "dataset_file = pd.read_csv('retail_store_sales.csv',encoding='latin-1')\n",
    "print(dataset_file.head(5))"
   ]
  },
  {
   "cell_type": "code",
   "execution_count": 7,
   "id": "43523d62-fa7b-4744-96c3-db5fb46520df",
   "metadata": {},
   "outputs": [
    {
     "name": "stdout",
     "output_type": "stream",
     "text": [
      "<class 'pandas.core.frame.DataFrame'>\n",
      "RangeIndex: 12575 entries, 0 to 12574\n",
      "Data columns (total 11 columns):\n",
      " #   Column            Non-Null Count  Dtype  \n",
      "---  ------            --------------  -----  \n",
      " 0   Transaction ID    12575 non-null  object \n",
      " 1   Customer ID       12575 non-null  object \n",
      " 2   Category          12575 non-null  object \n",
      " 3   Item              11362 non-null  object \n",
      " 4   Price Per Unit    11966 non-null  float64\n",
      " 5   Quantity          11971 non-null  float64\n",
      " 6   Total Spent       11971 non-null  float64\n",
      " 7   Payment Method    12575 non-null  object \n",
      " 8   Location          12575 non-null  object \n",
      " 9   Transaction Date  12575 non-null  object \n",
      " 10  Discount Applied  8376 non-null   object \n",
      "dtypes: float64(3), object(8)\n",
      "memory usage: 1.1+ MB\n",
      "None\n",
      "Transaction ID         0\n",
      "Customer ID            0\n",
      "Category               0\n",
      "Item                1213\n",
      "Price Per Unit       609\n",
      "Quantity             604\n",
      "Total Spent          604\n",
      "Payment Method         0\n",
      "Location               0\n",
      "Transaction Date       0\n",
      "Discount Applied    4199\n",
      "dtype: int64\n"
     ]
    }
   ],
   "source": [
    "# Describing dataset\n",
    "print(dataset_file.info())\n",
    "# Checking for missing values in the dataset\n",
    "print(dataset_file.isnull().sum())"
   ]
  },
  {
   "cell_type": "code",
   "execution_count": 8,
   "id": "4258de9d-246d-4adf-8935-af7fe3f56579",
   "metadata": {},
   "outputs": [],
   "source": [
    "# The dataset has 12575 rows and 11 columns\n",
    "# The Dataset is not entirely cleaned and organized\n",
    "# Columns with null values are: Item, Price Per Unit, Quantity, Total Spent, Discount Applied"
   ]
  }
 ],
 "metadata": {
  "kernelspec": {
   "display_name": "Python 3 (ipykernel)",
   "language": "python",
   "name": "python3"
  },
  "language_info": {
   "codemirror_mode": {
    "name": "ipython",
    "version": 3
   },
   "file_extension": ".py",
   "mimetype": "text/x-python",
   "name": "python",
   "nbconvert_exporter": "python",
   "pygments_lexer": "ipython3",
   "version": "3.13.5"
  }
 },
 "nbformat": 4,
 "nbformat_minor": 5
}
